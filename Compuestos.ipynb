{
 "cells": [
  {
   "cell_type": "markdown",
   "metadata": {},
   "source": [
    "# Gráficos Compuestos: Barras + Texto\n",
    "\n",
    "Partiendo de los graficos previos, se mejoraran para una visualizacion mas efectiva"
   ]
  },
  {
   "cell_type": "code",
   "execution_count": 35,
   "metadata": {},
   "outputs": [],
   "source": [
    "# Librerias\n",
    "\n",
    "import pandas as pd \n",
    "import altair as alt\n",
    "from vega_datasets import data as vega_data"
   ]
  },
  {
   "cell_type": "code",
   "execution_count": 36,
   "metadata": {},
   "outputs": [],
   "source": [
    "# Datos a utilizar \n",
    "df = vega_data.gapminder()\n",
    "\n",
    "# Pais\n",
    "japon = df[df['country'] == 'Japan']"
   ]
  },
  {
   "cell_type": "markdown",
   "metadata": {},
   "source": [
    "## Grafico de barras"
   ]
  },
  {
   "cell_type": "code",
   "execution_count": 37,
   "metadata": {},
   "outputs": [],
   "source": [
    "# Barras basicas de poblacion\n",
    "poblacion = alt.Chart(japon).mark_bar(color='#6867AC').encode(\n",
    "    x = alt.X('year:O', title = '', axis=alt.Axis(labelAngle = 0)),\n",
    "    y = alt.Y('pop:Q', title='Población', axis=alt.Axis(grid=False, titleAngle=0, titleAnchor='end', labels=False, domain=False, ticks=False))\n",
    ")"
   ]
  },
  {
   "cell_type": "code",
   "execution_count": 38,
   "metadata": {},
   "outputs": [
    {
     "data": {
      "text/html": [
       "\n",
       "<div id=\"altair-viz-1003dde7fedf4fea8bb77f1acc8ac983\"></div>\n",
       "<script type=\"text/javascript\">\n",
       "  var VEGA_DEBUG = (typeof VEGA_DEBUG == \"undefined\") ? {} : VEGA_DEBUG;\n",
       "  (function(spec, embedOpt){\n",
       "    let outputDiv = document.currentScript.previousElementSibling;\n",
       "    if (outputDiv.id !== \"altair-viz-1003dde7fedf4fea8bb77f1acc8ac983\") {\n",
       "      outputDiv = document.getElementById(\"altair-viz-1003dde7fedf4fea8bb77f1acc8ac983\");\n",
       "    }\n",
       "    const paths = {\n",
       "      \"vega\": \"https://cdn.jsdelivr.net/npm//vega@5?noext\",\n",
       "      \"vega-lib\": \"https://cdn.jsdelivr.net/npm//vega-lib?noext\",\n",
       "      \"vega-lite\": \"https://cdn.jsdelivr.net/npm//vega-lite@4.17.0?noext\",\n",
       "      \"vega-embed\": \"https://cdn.jsdelivr.net/npm//vega-embed@6?noext\",\n",
       "    };\n",
       "\n",
       "    function maybeLoadScript(lib, version) {\n",
       "      var key = `${lib.replace(\"-\", \"\")}_version`;\n",
       "      return (VEGA_DEBUG[key] == version) ?\n",
       "        Promise.resolve(paths[lib]) :\n",
       "        new Promise(function(resolve, reject) {\n",
       "          var s = document.createElement('script');\n",
       "          document.getElementsByTagName(\"head\")[0].appendChild(s);\n",
       "          s.async = true;\n",
       "          s.onload = () => {\n",
       "            VEGA_DEBUG[key] = version;\n",
       "            return resolve(paths[lib]);\n",
       "          };\n",
       "          s.onerror = () => reject(`Error loading script: ${paths[lib]}`);\n",
       "          s.src = paths[lib];\n",
       "        });\n",
       "    }\n",
       "\n",
       "    function showError(err) {\n",
       "      outputDiv.innerHTML = `<div class=\"error\" style=\"color:red;\">${err}</div>`;\n",
       "      throw err;\n",
       "    }\n",
       "\n",
       "    function displayChart(vegaEmbed) {\n",
       "      vegaEmbed(outputDiv, spec, embedOpt)\n",
       "        .catch(err => showError(`Javascript Error: ${err.message}<br>This usually means there's a typo in your chart specification. See the javascript console for the full traceback.`));\n",
       "    }\n",
       "\n",
       "    if(typeof define === \"function\" && define.amd) {\n",
       "      requirejs.config({paths});\n",
       "      require([\"vega-embed\"], displayChart, err => showError(`Error loading script: ${err.message}`));\n",
       "    } else {\n",
       "      maybeLoadScript(\"vega\", \"5\")\n",
       "        .then(() => maybeLoadScript(\"vega-lite\", \"4.17.0\"))\n",
       "        .then(() => maybeLoadScript(\"vega-embed\", \"6\"))\n",
       "        .catch(showError)\n",
       "        .then(() => displayChart(vegaEmbed));\n",
       "    }\n",
       "  })({\"config\": {\"view\": {\"continuousWidth\": 400, \"continuousHeight\": 300}}, \"data\": {\"name\": \"data-0748c25dac0b24bdc68cdc4d27a7bb65\"}, \"mark\": {\"type\": \"bar\", \"color\": \"#6867AC\"}, \"encoding\": {\"x\": {\"axis\": {\"labelAngle\": 0}, \"field\": \"year\", \"title\": \"\", \"type\": \"ordinal\"}, \"y\": {\"axis\": {\"domain\": false, \"grid\": false, \"labels\": false, \"ticks\": false, \"titleAnchor\": \"end\", \"titleAngle\": 0}, \"field\": \"pop\", \"title\": \"Poblaci\\u00f3n\", \"type\": \"quantitative\"}}, \"$schema\": \"https://vega.github.io/schema/vega-lite/v4.17.0.json\", \"datasets\": {\"data-0748c25dac0b24bdc68cdc4d27a7bb65\": [{\"year\": 1955, \"country\": \"Japan\", \"cluster\": 4, \"pop\": 89815060, \"life_expect\": 65.5, \"fertility\": 2.08}, {\"year\": 1960, \"country\": \"Japan\", \"cluster\": 4, \"pop\": 94091638, \"life_expect\": 68.73, \"fertility\": 2.02}, {\"year\": 1965, \"country\": \"Japan\", \"cluster\": 4, \"pop\": 98882534, \"life_expect\": 71.43, \"fertility\": 2.0}, {\"year\": 1970, \"country\": \"Japan\", \"cluster\": 4, \"pop\": 104344973, \"life_expect\": 73.42, \"fertility\": 2.07}, {\"year\": 1975, \"country\": \"Japan\", \"cluster\": 4, \"pop\": 111573116, \"life_expect\": 75.38, \"fertility\": 1.81}, {\"year\": 1980, \"country\": \"Japan\", \"cluster\": 4, \"pop\": 116807309, \"life_expect\": 77.11, \"fertility\": 1.76}, {\"year\": 1985, \"country\": \"Japan\", \"cluster\": 4, \"pop\": 120754335, \"life_expect\": 78.67, \"fertility\": 1.6600000000000001}, {\"year\": 1990, \"country\": \"Japan\", \"cluster\": 4, \"pop\": 123537399, \"life_expect\": 79.36, \"fertility\": 1.49}, {\"year\": 1995, \"country\": \"Japan\", \"cluster\": 4, \"pop\": 125341354, \"life_expect\": 80.69, \"fertility\": 1.3900000000000001}, {\"year\": 2000, \"country\": \"Japan\", \"cluster\": 4, \"pop\": 126699784, \"life_expect\": 82.0, \"fertility\": 1.291}, {\"year\": 2005, \"country\": \"Japan\", \"cluster\": 4, \"pop\": 127417244, \"life_expect\": 82.603, \"fertility\": 1.27}]}}, {\"mode\": \"vega-lite\"});\n",
       "</script>"
      ],
      "text/plain": [
       "alt.Chart(...)"
      ]
     },
     "execution_count": 38,
     "metadata": {},
     "output_type": "execute_result"
    }
   ],
   "source": [
    "poblacion"
   ]
  },
  {
   "cell_type": "markdown",
   "metadata": {},
   "source": [
    "## Grafico de texto"
   ]
  },
  {
   "cell_type": "code",
   "execution_count": 42,
   "metadata": {},
   "outputs": [],
   "source": [
    "# Texto basico\n",
    "poblacion_text = poblacion.mark_text(\n",
    "    align = 'center',\n",
    "    baseline = 'bottom', \n",
    "    dy = -5\n",
    ").encode(\n",
    "    text = alt.Text('pop:Q', format='.2s')\n",
    ")"
   ]
  },
  {
   "cell_type": "code",
   "execution_count": 40,
   "metadata": {},
   "outputs": [
    {
     "data": {
      "text/html": [
       "\n",
       "<div id=\"altair-viz-1f5bf79d06144f49b8d8d1bad216c136\"></div>\n",
       "<script type=\"text/javascript\">\n",
       "  var VEGA_DEBUG = (typeof VEGA_DEBUG == \"undefined\") ? {} : VEGA_DEBUG;\n",
       "  (function(spec, embedOpt){\n",
       "    let outputDiv = document.currentScript.previousElementSibling;\n",
       "    if (outputDiv.id !== \"altair-viz-1f5bf79d06144f49b8d8d1bad216c136\") {\n",
       "      outputDiv = document.getElementById(\"altair-viz-1f5bf79d06144f49b8d8d1bad216c136\");\n",
       "    }\n",
       "    const paths = {\n",
       "      \"vega\": \"https://cdn.jsdelivr.net/npm//vega@5?noext\",\n",
       "      \"vega-lib\": \"https://cdn.jsdelivr.net/npm//vega-lib?noext\",\n",
       "      \"vega-lite\": \"https://cdn.jsdelivr.net/npm//vega-lite@4.17.0?noext\",\n",
       "      \"vega-embed\": \"https://cdn.jsdelivr.net/npm//vega-embed@6?noext\",\n",
       "    };\n",
       "\n",
       "    function maybeLoadScript(lib, version) {\n",
       "      var key = `${lib.replace(\"-\", \"\")}_version`;\n",
       "      return (VEGA_DEBUG[key] == version) ?\n",
       "        Promise.resolve(paths[lib]) :\n",
       "        new Promise(function(resolve, reject) {\n",
       "          var s = document.createElement('script');\n",
       "          document.getElementsByTagName(\"head\")[0].appendChild(s);\n",
       "          s.async = true;\n",
       "          s.onload = () => {\n",
       "            VEGA_DEBUG[key] = version;\n",
       "            return resolve(paths[lib]);\n",
       "          };\n",
       "          s.onerror = () => reject(`Error loading script: ${paths[lib]}`);\n",
       "          s.src = paths[lib];\n",
       "        });\n",
       "    }\n",
       "\n",
       "    function showError(err) {\n",
       "      outputDiv.innerHTML = `<div class=\"error\" style=\"color:red;\">${err}</div>`;\n",
       "      throw err;\n",
       "    }\n",
       "\n",
       "    function displayChart(vegaEmbed) {\n",
       "      vegaEmbed(outputDiv, spec, embedOpt)\n",
       "        .catch(err => showError(`Javascript Error: ${err.message}<br>This usually means there's a typo in your chart specification. See the javascript console for the full traceback.`));\n",
       "    }\n",
       "\n",
       "    if(typeof define === \"function\" && define.amd) {\n",
       "      requirejs.config({paths});\n",
       "      require([\"vega-embed\"], displayChart, err => showError(`Error loading script: ${err.message}`));\n",
       "    } else {\n",
       "      maybeLoadScript(\"vega\", \"5\")\n",
       "        .then(() => maybeLoadScript(\"vega-lite\", \"4.17.0\"))\n",
       "        .then(() => maybeLoadScript(\"vega-embed\", \"6\"))\n",
       "        .catch(showError)\n",
       "        .then(() => displayChart(vegaEmbed));\n",
       "    }\n",
       "  })({\"config\": {\"view\": {\"continuousWidth\": 400, \"continuousHeight\": 300}}, \"data\": {\"name\": \"data-0748c25dac0b24bdc68cdc4d27a7bb65\"}, \"mark\": {\"type\": \"text\", \"align\": \"center\", \"baseline\": \"middle\", \"dy\": -5}, \"encoding\": {\"text\": {\"field\": \"pop\", \"format\": \".2s\", \"type\": \"quantitative\"}, \"x\": {\"axis\": {\"labelAngle\": 0}, \"field\": \"year\", \"title\": \"\", \"type\": \"ordinal\"}, \"y\": {\"axis\": {\"domain\": false, \"grid\": false, \"labels\": false, \"ticks\": false, \"titleAnchor\": \"end\", \"titleAngle\": 0}, \"field\": \"pop\", \"title\": \"Poblaci\\u00f3n\", \"type\": \"quantitative\"}}, \"$schema\": \"https://vega.github.io/schema/vega-lite/v4.17.0.json\", \"datasets\": {\"data-0748c25dac0b24bdc68cdc4d27a7bb65\": [{\"year\": 1955, \"country\": \"Japan\", \"cluster\": 4, \"pop\": 89815060, \"life_expect\": 65.5, \"fertility\": 2.08}, {\"year\": 1960, \"country\": \"Japan\", \"cluster\": 4, \"pop\": 94091638, \"life_expect\": 68.73, \"fertility\": 2.02}, {\"year\": 1965, \"country\": \"Japan\", \"cluster\": 4, \"pop\": 98882534, \"life_expect\": 71.43, \"fertility\": 2.0}, {\"year\": 1970, \"country\": \"Japan\", \"cluster\": 4, \"pop\": 104344973, \"life_expect\": 73.42, \"fertility\": 2.07}, {\"year\": 1975, \"country\": \"Japan\", \"cluster\": 4, \"pop\": 111573116, \"life_expect\": 75.38, \"fertility\": 1.81}, {\"year\": 1980, \"country\": \"Japan\", \"cluster\": 4, \"pop\": 116807309, \"life_expect\": 77.11, \"fertility\": 1.76}, {\"year\": 1985, \"country\": \"Japan\", \"cluster\": 4, \"pop\": 120754335, \"life_expect\": 78.67, \"fertility\": 1.6600000000000001}, {\"year\": 1990, \"country\": \"Japan\", \"cluster\": 4, \"pop\": 123537399, \"life_expect\": 79.36, \"fertility\": 1.49}, {\"year\": 1995, \"country\": \"Japan\", \"cluster\": 4, \"pop\": 125341354, \"life_expect\": 80.69, \"fertility\": 1.3900000000000001}, {\"year\": 2000, \"country\": \"Japan\", \"cluster\": 4, \"pop\": 126699784, \"life_expect\": 82.0, \"fertility\": 1.291}, {\"year\": 2005, \"country\": \"Japan\", \"cluster\": 4, \"pop\": 127417244, \"life_expect\": 82.603, \"fertility\": 1.27}]}}, {\"mode\": \"vega-lite\"});\n",
       "</script>"
      ],
      "text/plain": [
       "alt.Chart(...)"
      ]
     },
     "execution_count": 40,
     "metadata": {},
     "output_type": "execute_result"
    }
   ],
   "source": [
    "poblacion_text"
   ]
  },
  {
   "cell_type": "markdown",
   "metadata": {},
   "source": [
    "## Grafico compuesto"
   ]
  },
  {
   "cell_type": "code",
   "execution_count": 43,
   "metadata": {},
   "outputs": [
    {
     "data": {
      "text/html": [
       "\n",
       "<div id=\"altair-viz-8c199c16b08249c39624675df6690114\"></div>\n",
       "<script type=\"text/javascript\">\n",
       "  var VEGA_DEBUG = (typeof VEGA_DEBUG == \"undefined\") ? {} : VEGA_DEBUG;\n",
       "  (function(spec, embedOpt){\n",
       "    let outputDiv = document.currentScript.previousElementSibling;\n",
       "    if (outputDiv.id !== \"altair-viz-8c199c16b08249c39624675df6690114\") {\n",
       "      outputDiv = document.getElementById(\"altair-viz-8c199c16b08249c39624675df6690114\");\n",
       "    }\n",
       "    const paths = {\n",
       "      \"vega\": \"https://cdn.jsdelivr.net/npm//vega@5?noext\",\n",
       "      \"vega-lib\": \"https://cdn.jsdelivr.net/npm//vega-lib?noext\",\n",
       "      \"vega-lite\": \"https://cdn.jsdelivr.net/npm//vega-lite@4.17.0?noext\",\n",
       "      \"vega-embed\": \"https://cdn.jsdelivr.net/npm//vega-embed@6?noext\",\n",
       "    };\n",
       "\n",
       "    function maybeLoadScript(lib, version) {\n",
       "      var key = `${lib.replace(\"-\", \"\")}_version`;\n",
       "      return (VEGA_DEBUG[key] == version) ?\n",
       "        Promise.resolve(paths[lib]) :\n",
       "        new Promise(function(resolve, reject) {\n",
       "          var s = document.createElement('script');\n",
       "          document.getElementsByTagName(\"head\")[0].appendChild(s);\n",
       "          s.async = true;\n",
       "          s.onload = () => {\n",
       "            VEGA_DEBUG[key] = version;\n",
       "            return resolve(paths[lib]);\n",
       "          };\n",
       "          s.onerror = () => reject(`Error loading script: ${paths[lib]}`);\n",
       "          s.src = paths[lib];\n",
       "        });\n",
       "    }\n",
       "\n",
       "    function showError(err) {\n",
       "      outputDiv.innerHTML = `<div class=\"error\" style=\"color:red;\">${err}</div>`;\n",
       "      throw err;\n",
       "    }\n",
       "\n",
       "    function displayChart(vegaEmbed) {\n",
       "      vegaEmbed(outputDiv, spec, embedOpt)\n",
       "        .catch(err => showError(`Javascript Error: ${err.message}<br>This usually means there's a typo in your chart specification. See the javascript console for the full traceback.`));\n",
       "    }\n",
       "\n",
       "    if(typeof define === \"function\" && define.amd) {\n",
       "      requirejs.config({paths});\n",
       "      require([\"vega-embed\"], displayChart, err => showError(`Error loading script: ${err.message}`));\n",
       "    } else {\n",
       "      maybeLoadScript(\"vega\", \"5\")\n",
       "        .then(() => maybeLoadScript(\"vega-lite\", \"4.17.0\"))\n",
       "        .then(() => maybeLoadScript(\"vega-embed\", \"6\"))\n",
       "        .catch(showError)\n",
       "        .then(() => displayChart(vegaEmbed));\n",
       "    }\n",
       "  })({\"config\": {\"view\": {\"continuousWidth\": 400, \"continuousHeight\": 300, \"strokeWidth\": 0}, \"title\": {\"fontSize\": 17}}, \"layer\": [{\"mark\": {\"type\": \"bar\", \"color\": \"#6867AC\"}, \"encoding\": {\"x\": {\"axis\": {\"labelAngle\": 0}, \"field\": \"year\", \"title\": \"\", \"type\": \"ordinal\"}, \"y\": {\"axis\": {\"domain\": false, \"grid\": false, \"labels\": false, \"ticks\": false, \"titleAnchor\": \"end\", \"titleAngle\": 0}, \"field\": \"pop\", \"title\": \"Poblaci\\u00f3n\", \"type\": \"quantitative\"}}}, {\"mark\": {\"type\": \"text\", \"align\": \"center\", \"baseline\": \"bottom\", \"dy\": -5}, \"encoding\": {\"text\": {\"field\": \"pop\", \"format\": \".2s\", \"type\": \"quantitative\"}, \"x\": {\"axis\": {\"labelAngle\": 0}, \"field\": \"year\", \"title\": \"\", \"type\": \"ordinal\"}, \"y\": {\"axis\": {\"domain\": false, \"grid\": false, \"labels\": false, \"ticks\": false, \"titleAnchor\": \"end\", \"titleAngle\": 0}, \"field\": \"pop\", \"title\": \"Poblaci\\u00f3n\", \"type\": \"quantitative\"}}}], \"data\": {\"name\": \"data-0748c25dac0b24bdc68cdc4d27a7bb65\"}, \"title\": \"Poblaci\\u00f3n de Jap\\u00f3n 1955 - 2005\", \"width\": 600, \"$schema\": \"https://vega.github.io/schema/vega-lite/v4.17.0.json\", \"datasets\": {\"data-0748c25dac0b24bdc68cdc4d27a7bb65\": [{\"year\": 1955, \"country\": \"Japan\", \"cluster\": 4, \"pop\": 89815060, \"life_expect\": 65.5, \"fertility\": 2.08}, {\"year\": 1960, \"country\": \"Japan\", \"cluster\": 4, \"pop\": 94091638, \"life_expect\": 68.73, \"fertility\": 2.02}, {\"year\": 1965, \"country\": \"Japan\", \"cluster\": 4, \"pop\": 98882534, \"life_expect\": 71.43, \"fertility\": 2.0}, {\"year\": 1970, \"country\": \"Japan\", \"cluster\": 4, \"pop\": 104344973, \"life_expect\": 73.42, \"fertility\": 2.07}, {\"year\": 1975, \"country\": \"Japan\", \"cluster\": 4, \"pop\": 111573116, \"life_expect\": 75.38, \"fertility\": 1.81}, {\"year\": 1980, \"country\": \"Japan\", \"cluster\": 4, \"pop\": 116807309, \"life_expect\": 77.11, \"fertility\": 1.76}, {\"year\": 1985, \"country\": \"Japan\", \"cluster\": 4, \"pop\": 120754335, \"life_expect\": 78.67, \"fertility\": 1.6600000000000001}, {\"year\": 1990, \"country\": \"Japan\", \"cluster\": 4, \"pop\": 123537399, \"life_expect\": 79.36, \"fertility\": 1.49}, {\"year\": 1995, \"country\": \"Japan\", \"cluster\": 4, \"pop\": 125341354, \"life_expect\": 80.69, \"fertility\": 1.3900000000000001}, {\"year\": 2000, \"country\": \"Japan\", \"cluster\": 4, \"pop\": 126699784, \"life_expect\": 82.0, \"fertility\": 1.291}, {\"year\": 2005, \"country\": \"Japan\", \"cluster\": 4, \"pop\": 127417244, \"life_expect\": 82.603, \"fertility\": 1.27}]}}, {\"mode\": \"vega-lite\"});\n",
       "</script>"
      ],
      "text/plain": [
       "alt.LayerChart(...)"
      ]
     },
     "execution_count": 43,
     "metadata": {},
     "output_type": "execute_result"
    }
   ],
   "source": [
    "compuesto = poblacion + poblacion_text\n",
    "\n",
    "compuesto.properties(\n",
    "    title = 'Población de Japón 1955 - 2005',\n",
    "    width = 600\n",
    ").configure_title(\n",
    "    fontSize = 17\n",
    ").configure_view(\n",
    "    strokeWidth = 0\n",
    ")"
   ]
  }
 ],
 "metadata": {
  "interpreter": {
   "hash": "7c7891e7cf380ed489d75a267c4c9edc21b025f50aaae629f7ee24d6d95fc690"
  },
  "kernelspec": {
   "display_name": "Python 3.10.2 64-bit",
   "language": "python",
   "name": "python3"
  },
  "language_info": {
   "codemirror_mode": {
    "name": "ipython",
    "version": 3
   },
   "file_extension": ".py",
   "mimetype": "text/x-python",
   "name": "python",
   "nbconvert_exporter": "python",
   "pygments_lexer": "ipython3",
   "version": "3.10.2"
  },
  "orig_nbformat": 4
 },
 "nbformat": 4,
 "nbformat_minor": 2
}
